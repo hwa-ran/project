{
 "cells": [
  {
   "cell_type": "markdown",
   "id": "8194d0f8",
   "metadata": {},
   "source": [
    "# DATA PROCESSING"
   ]
  },
  {
   "cell_type": "code",
   "execution_count": null,
   "id": "2826aefb",
   "metadata": {},
   "outputs": [],
   "source": [
    "#dataset \n",
    "#https://www.kaggle.com/datasets/thedevastator/unlock-profits-with-e-commerce-sales-data/data"
   ]
  },
  {
   "cell_type": "code",
   "execution_count": 2,
   "id": "de641897",
   "metadata": {},
   "outputs": [],
   "source": [
    "import pandas as pd\n",
    "import numpy as np"
   ]
  },
  {
   "cell_type": "code",
   "execution_count": 3,
   "id": "665bfa64",
   "metadata": {},
   "outputs": [
    {
     "name": "stderr",
     "output_type": "stream",
     "text": [
      "C:\\Users\\hyein\\AppData\\Local\\Temp\\ipykernel_22384\\29860753.py:1: DtypeWarning: Columns (23) have mixed types. Specify dtype option on import or set low_memory=False.\n",
      "  amazon = pd.read_csv(\"data/Amazon Sale Report.csv\")\n"
     ]
    },
    {
     "data": {
      "text/html": [
       "<div>\n",
       "<style scoped>\n",
       "    .dataframe tbody tr th:only-of-type {\n",
       "        vertical-align: middle;\n",
       "    }\n",
       "\n",
       "    .dataframe tbody tr th {\n",
       "        vertical-align: top;\n",
       "    }\n",
       "\n",
       "    .dataframe thead th {\n",
       "        text-align: right;\n",
       "    }\n",
       "</style>\n",
       "<table border=\"1\" class=\"dataframe\">\n",
       "  <thead>\n",
       "    <tr style=\"text-align: right;\">\n",
       "      <th></th>\n",
       "      <th>Order ID</th>\n",
       "      <th>Date</th>\n",
       "      <th>Status</th>\n",
       "      <th>Fulfilment</th>\n",
       "      <th>Sales Channel</th>\n",
       "      <th>ship-service-level</th>\n",
       "      <th>Style</th>\n",
       "      <th>SKU</th>\n",
       "      <th>Category</th>\n",
       "      <th>Size</th>\n",
       "      <th>...</th>\n",
       "      <th>currency</th>\n",
       "      <th>Amount</th>\n",
       "      <th>ship-city</th>\n",
       "      <th>ship-state</th>\n",
       "      <th>ship-postal-code</th>\n",
       "      <th>ship-country</th>\n",
       "      <th>promotion-ids</th>\n",
       "      <th>B2B</th>\n",
       "      <th>fulfilled-by</th>\n",
       "      <th>Unnamed: 22</th>\n",
       "    </tr>\n",
       "  </thead>\n",
       "  <tbody>\n",
       "    <tr>\n",
       "      <th>0</th>\n",
       "      <td>405-8078784-5731545</td>\n",
       "      <td>04-30-22</td>\n",
       "      <td>Cancelled</td>\n",
       "      <td>Merchant</td>\n",
       "      <td>Amazon.in</td>\n",
       "      <td>Standard</td>\n",
       "      <td>SET389</td>\n",
       "      <td>SET389-KR-NP-S</td>\n",
       "      <td>Set</td>\n",
       "      <td>S</td>\n",
       "      <td>...</td>\n",
       "      <td>INR</td>\n",
       "      <td>647.62</td>\n",
       "      <td>MUMBAI</td>\n",
       "      <td>MAHARASHTRA</td>\n",
       "      <td>400081.0</td>\n",
       "      <td>IN</td>\n",
       "      <td>NaN</td>\n",
       "      <td>False</td>\n",
       "      <td>Easy Ship</td>\n",
       "      <td>NaN</td>\n",
       "    </tr>\n",
       "    <tr>\n",
       "      <th>1</th>\n",
       "      <td>171-9198151-1101146</td>\n",
       "      <td>04-30-22</td>\n",
       "      <td>Shipped - Delivered to Buyer</td>\n",
       "      <td>Merchant</td>\n",
       "      <td>Amazon.in</td>\n",
       "      <td>Standard</td>\n",
       "      <td>JNE3781</td>\n",
       "      <td>JNE3781-KR-XXXL</td>\n",
       "      <td>kurta</td>\n",
       "      <td>3XL</td>\n",
       "      <td>...</td>\n",
       "      <td>INR</td>\n",
       "      <td>406.00</td>\n",
       "      <td>BENGALURU</td>\n",
       "      <td>KARNATAKA</td>\n",
       "      <td>560085.0</td>\n",
       "      <td>IN</td>\n",
       "      <td>Amazon PLCC Free-Financing Universal Merchant ...</td>\n",
       "      <td>False</td>\n",
       "      <td>Easy Ship</td>\n",
       "      <td>NaN</td>\n",
       "    </tr>\n",
       "    <tr>\n",
       "      <th>2</th>\n",
       "      <td>404-0687676-7273146</td>\n",
       "      <td>04-30-22</td>\n",
       "      <td>Shipped</td>\n",
       "      <td>Amazon</td>\n",
       "      <td>Amazon.in</td>\n",
       "      <td>Expedited</td>\n",
       "      <td>JNE3371</td>\n",
       "      <td>JNE3371-KR-XL</td>\n",
       "      <td>kurta</td>\n",
       "      <td>XL</td>\n",
       "      <td>...</td>\n",
       "      <td>INR</td>\n",
       "      <td>329.00</td>\n",
       "      <td>NAVI MUMBAI</td>\n",
       "      <td>MAHARASHTRA</td>\n",
       "      <td>410210.0</td>\n",
       "      <td>IN</td>\n",
       "      <td>IN Core Free Shipping 2015/04/08 23-48-5-108</td>\n",
       "      <td>True</td>\n",
       "      <td>NaN</td>\n",
       "      <td>NaN</td>\n",
       "    </tr>\n",
       "    <tr>\n",
       "      <th>3</th>\n",
       "      <td>403-9615377-8133951</td>\n",
       "      <td>04-30-22</td>\n",
       "      <td>Cancelled</td>\n",
       "      <td>Merchant</td>\n",
       "      <td>Amazon.in</td>\n",
       "      <td>Standard</td>\n",
       "      <td>J0341</td>\n",
       "      <td>J0341-DR-L</td>\n",
       "      <td>Western Dress</td>\n",
       "      <td>L</td>\n",
       "      <td>...</td>\n",
       "      <td>INR</td>\n",
       "      <td>753.33</td>\n",
       "      <td>PUDUCHERRY</td>\n",
       "      <td>PUDUCHERRY</td>\n",
       "      <td>605008.0</td>\n",
       "      <td>IN</td>\n",
       "      <td>NaN</td>\n",
       "      <td>False</td>\n",
       "      <td>Easy Ship</td>\n",
       "      <td>NaN</td>\n",
       "    </tr>\n",
       "    <tr>\n",
       "      <th>4</th>\n",
       "      <td>407-1069790-7240320</td>\n",
       "      <td>04-30-22</td>\n",
       "      <td>Shipped</td>\n",
       "      <td>Amazon</td>\n",
       "      <td>Amazon.in</td>\n",
       "      <td>Expedited</td>\n",
       "      <td>JNE3671</td>\n",
       "      <td>JNE3671-TU-XXXL</td>\n",
       "      <td>Top</td>\n",
       "      <td>3XL</td>\n",
       "      <td>...</td>\n",
       "      <td>INR</td>\n",
       "      <td>574.00</td>\n",
       "      <td>CHENNAI</td>\n",
       "      <td>TAMIL NADU</td>\n",
       "      <td>600073.0</td>\n",
       "      <td>IN</td>\n",
       "      <td>NaN</td>\n",
       "      <td>False</td>\n",
       "      <td>NaN</td>\n",
       "      <td>NaN</td>\n",
       "    </tr>\n",
       "    <tr>\n",
       "      <th>...</th>\n",
       "      <td>...</td>\n",
       "      <td>...</td>\n",
       "      <td>...</td>\n",
       "      <td>...</td>\n",
       "      <td>...</td>\n",
       "      <td>...</td>\n",
       "      <td>...</td>\n",
       "      <td>...</td>\n",
       "      <td>...</td>\n",
       "      <td>...</td>\n",
       "      <td>...</td>\n",
       "      <td>...</td>\n",
       "      <td>...</td>\n",
       "      <td>...</td>\n",
       "      <td>...</td>\n",
       "      <td>...</td>\n",
       "      <td>...</td>\n",
       "      <td>...</td>\n",
       "      <td>...</td>\n",
       "      <td>...</td>\n",
       "      <td>...</td>\n",
       "    </tr>\n",
       "    <tr>\n",
       "      <th>128970</th>\n",
       "      <td>406-6001380-7673107</td>\n",
       "      <td>05-31-22</td>\n",
       "      <td>Shipped</td>\n",
       "      <td>Amazon</td>\n",
       "      <td>Amazon.in</td>\n",
       "      <td>Expedited</td>\n",
       "      <td>JNE3697</td>\n",
       "      <td>JNE3697-KR-XL</td>\n",
       "      <td>kurta</td>\n",
       "      <td>XL</td>\n",
       "      <td>...</td>\n",
       "      <td>INR</td>\n",
       "      <td>517.00</td>\n",
       "      <td>HYDERABAD</td>\n",
       "      <td>TELANGANA</td>\n",
       "      <td>500013.0</td>\n",
       "      <td>IN</td>\n",
       "      <td>NaN</td>\n",
       "      <td>False</td>\n",
       "      <td>NaN</td>\n",
       "      <td>False</td>\n",
       "    </tr>\n",
       "    <tr>\n",
       "      <th>128971</th>\n",
       "      <td>402-9551604-7544318</td>\n",
       "      <td>05-31-22</td>\n",
       "      <td>Shipped</td>\n",
       "      <td>Amazon</td>\n",
       "      <td>Amazon.in</td>\n",
       "      <td>Expedited</td>\n",
       "      <td>SET401</td>\n",
       "      <td>SET401-KR-NP-M</td>\n",
       "      <td>Set</td>\n",
       "      <td>M</td>\n",
       "      <td>...</td>\n",
       "      <td>INR</td>\n",
       "      <td>999.00</td>\n",
       "      <td>GURUGRAM</td>\n",
       "      <td>HARYANA</td>\n",
       "      <td>122004.0</td>\n",
       "      <td>IN</td>\n",
       "      <td>IN Core Free Shipping 2015/04/08 23-48-5-108</td>\n",
       "      <td>False</td>\n",
       "      <td>NaN</td>\n",
       "      <td>False</td>\n",
       "    </tr>\n",
       "    <tr>\n",
       "      <th>128972</th>\n",
       "      <td>407-9547469-3152358</td>\n",
       "      <td>05-31-22</td>\n",
       "      <td>Shipped</td>\n",
       "      <td>Amazon</td>\n",
       "      <td>Amazon.in</td>\n",
       "      <td>Expedited</td>\n",
       "      <td>J0157</td>\n",
       "      <td>J0157-DR-XXL</td>\n",
       "      <td>Western Dress</td>\n",
       "      <td>XXL</td>\n",
       "      <td>...</td>\n",
       "      <td>INR</td>\n",
       "      <td>690.00</td>\n",
       "      <td>HYDERABAD</td>\n",
       "      <td>TELANGANA</td>\n",
       "      <td>500049.0</td>\n",
       "      <td>IN</td>\n",
       "      <td>NaN</td>\n",
       "      <td>False</td>\n",
       "      <td>NaN</td>\n",
       "      <td>False</td>\n",
       "    </tr>\n",
       "    <tr>\n",
       "      <th>128973</th>\n",
       "      <td>402-6184140-0545956</td>\n",
       "      <td>05-31-22</td>\n",
       "      <td>Shipped</td>\n",
       "      <td>Amazon</td>\n",
       "      <td>Amazon.in</td>\n",
       "      <td>Expedited</td>\n",
       "      <td>J0012</td>\n",
       "      <td>J0012-SKD-XS</td>\n",
       "      <td>Set</td>\n",
       "      <td>XS</td>\n",
       "      <td>...</td>\n",
       "      <td>INR</td>\n",
       "      <td>1199.00</td>\n",
       "      <td>Halol</td>\n",
       "      <td>Gujarat</td>\n",
       "      <td>389350.0</td>\n",
       "      <td>IN</td>\n",
       "      <td>IN Core Free Shipping 2015/04/08 23-48-5-108</td>\n",
       "      <td>False</td>\n",
       "      <td>NaN</td>\n",
       "      <td>False</td>\n",
       "    </tr>\n",
       "    <tr>\n",
       "      <th>128974</th>\n",
       "      <td>408-7436540-8728312</td>\n",
       "      <td>05-31-22</td>\n",
       "      <td>Shipped</td>\n",
       "      <td>Amazon</td>\n",
       "      <td>Amazon.in</td>\n",
       "      <td>Expedited</td>\n",
       "      <td>J0003</td>\n",
       "      <td>J0003-SET-S</td>\n",
       "      <td>Set</td>\n",
       "      <td>S</td>\n",
       "      <td>...</td>\n",
       "      <td>INR</td>\n",
       "      <td>696.00</td>\n",
       "      <td>Raipur</td>\n",
       "      <td>CHHATTISGARH</td>\n",
       "      <td>492014.0</td>\n",
       "      <td>IN</td>\n",
       "      <td>IN Core Free Shipping 2015/04/08 23-48-5-108</td>\n",
       "      <td>False</td>\n",
       "      <td>NaN</td>\n",
       "      <td>False</td>\n",
       "    </tr>\n",
       "  </tbody>\n",
       "</table>\n",
       "<p>128975 rows × 23 columns</p>\n",
       "</div>"
      ],
      "text/plain": [
       "                   Order ID      Date                        Status  \\\n",
       "0       405-8078784-5731545  04-30-22                     Cancelled   \n",
       "1       171-9198151-1101146  04-30-22  Shipped - Delivered to Buyer   \n",
       "2       404-0687676-7273146  04-30-22                       Shipped   \n",
       "3       403-9615377-8133951  04-30-22                     Cancelled   \n",
       "4       407-1069790-7240320  04-30-22                       Shipped   \n",
       "...                     ...       ...                           ...   \n",
       "128970  406-6001380-7673107  05-31-22                       Shipped   \n",
       "128971  402-9551604-7544318  05-31-22                       Shipped   \n",
       "128972  407-9547469-3152358  05-31-22                       Shipped   \n",
       "128973  402-6184140-0545956  05-31-22                       Shipped   \n",
       "128974  408-7436540-8728312  05-31-22                       Shipped   \n",
       "\n",
       "       Fulfilment Sales Channel  ship-service-level    Style              SKU  \\\n",
       "0        Merchant      Amazon.in           Standard   SET389   SET389-KR-NP-S   \n",
       "1        Merchant      Amazon.in           Standard  JNE3781  JNE3781-KR-XXXL   \n",
       "2          Amazon      Amazon.in          Expedited  JNE3371    JNE3371-KR-XL   \n",
       "3        Merchant      Amazon.in           Standard    J0341       J0341-DR-L   \n",
       "4          Amazon      Amazon.in          Expedited  JNE3671  JNE3671-TU-XXXL   \n",
       "...           ...            ...                ...      ...              ...   \n",
       "128970     Amazon      Amazon.in          Expedited  JNE3697    JNE3697-KR-XL   \n",
       "128971     Amazon      Amazon.in          Expedited   SET401   SET401-KR-NP-M   \n",
       "128972     Amazon      Amazon.in          Expedited    J0157     J0157-DR-XXL   \n",
       "128973     Amazon      Amazon.in          Expedited    J0012     J0012-SKD-XS   \n",
       "128974     Amazon      Amazon.in          Expedited    J0003      J0003-SET-S   \n",
       "\n",
       "             Category Size  ... currency   Amount    ship-city    ship-state  \\\n",
       "0                 Set    S  ...      INR   647.62       MUMBAI   MAHARASHTRA   \n",
       "1               kurta  3XL  ...      INR   406.00    BENGALURU     KARNATAKA   \n",
       "2               kurta   XL  ...      INR   329.00  NAVI MUMBAI   MAHARASHTRA   \n",
       "3       Western Dress    L  ...      INR   753.33   PUDUCHERRY    PUDUCHERRY   \n",
       "4                 Top  3XL  ...      INR   574.00      CHENNAI    TAMIL NADU   \n",
       "...               ...  ...  ...      ...      ...          ...           ...   \n",
       "128970          kurta   XL  ...      INR   517.00    HYDERABAD     TELANGANA   \n",
       "128971            Set    M  ...      INR   999.00     GURUGRAM       HARYANA   \n",
       "128972  Western Dress  XXL  ...      INR   690.00    HYDERABAD     TELANGANA   \n",
       "128973            Set   XS  ...      INR  1199.00        Halol       Gujarat   \n",
       "128974            Set    S  ...      INR   696.00       Raipur  CHHATTISGARH   \n",
       "\n",
       "        ship-postal-code ship-country  \\\n",
       "0               400081.0           IN   \n",
       "1               560085.0           IN   \n",
       "2               410210.0           IN   \n",
       "3               605008.0           IN   \n",
       "4               600073.0           IN   \n",
       "...                  ...          ...   \n",
       "128970          500013.0           IN   \n",
       "128971          122004.0           IN   \n",
       "128972          500049.0           IN   \n",
       "128973          389350.0           IN   \n",
       "128974          492014.0           IN   \n",
       "\n",
       "                                            promotion-ids    B2B fulfilled-by  \\\n",
       "0                                                     NaN  False    Easy Ship   \n",
       "1       Amazon PLCC Free-Financing Universal Merchant ...  False    Easy Ship   \n",
       "2            IN Core Free Shipping 2015/04/08 23-48-5-108   True          NaN   \n",
       "3                                                     NaN  False    Easy Ship   \n",
       "4                                                     NaN  False          NaN   \n",
       "...                                                   ...    ...          ...   \n",
       "128970                                                NaN  False          NaN   \n",
       "128971       IN Core Free Shipping 2015/04/08 23-48-5-108  False          NaN   \n",
       "128972                                                NaN  False          NaN   \n",
       "128973       IN Core Free Shipping 2015/04/08 23-48-5-108  False          NaN   \n",
       "128974       IN Core Free Shipping 2015/04/08 23-48-5-108  False          NaN   \n",
       "\n",
       "       Unnamed: 22  \n",
       "0              NaN  \n",
       "1              NaN  \n",
       "2              NaN  \n",
       "3              NaN  \n",
       "4              NaN  \n",
       "...            ...  \n",
       "128970       False  \n",
       "128971       False  \n",
       "128972       False  \n",
       "128973       False  \n",
       "128974       False  \n",
       "\n",
       "[128975 rows x 23 columns]"
      ]
     },
     "execution_count": 3,
     "metadata": {},
     "output_type": "execute_result"
    }
   ],
   "source": [
    "amazon = pd.read_csv(\"data/Amazon Sale Report.csv\")\n",
    "amazon.drop(columns = \"index\", inplace = True)\n",
    "amazon"
   ]
  },
  {
   "cell_type": "markdown",
   "id": "263fc39a",
   "metadata": {},
   "source": [
    "# 1. overview of data"
   ]
  },
  {
   "cell_type": "code",
   "execution_count": 14,
   "id": "18db6c40",
   "metadata": {},
   "outputs": [],
   "source": [
    "from scipy import stats\n",
    "\n",
    "def summarization(df):\n",
    "    print(f\"Dataset Shape: {df.shape}\")\n",
    "    summary = pd.DataFrame(df.dtypes, columns=['dtypes'])\n",
    "    summary = summary.reset_index()\n",
    "    summary = summary.rename(columns={'index': 'Name'})\n",
    "    \n",
    "    # 각 열에 대해 고유값의 개수를 계산하여 'nunique' 열에 저장\n",
    "    summary['nunique'] = [df[col].nunique() for col in df.columns]\n",
    "    summary['missing value'] = [df[col].isna().sum() for col in df.columns]\n",
    "    # 각 열의 고유값을 리스트로 저장하여 'unique value' 열에 저장\n",
    "    unique_values = []\n",
    "    for col in df.columns:\n",
    "        unique_values.append(df[col].unique())\n",
    "    summary['unique value'] = unique_values\n",
    "\n",
    "\n",
    "    return summary"
   ]
  },
  {
   "cell_type": "code",
   "execution_count": 15,
   "id": "3caaaa93",
   "metadata": {},
   "outputs": [
    {
     "name": "stdout",
     "output_type": "stream",
     "text": [
      "Dataset Shape: (128975, 23)\n"
     ]
    },
    {
     "data": {
      "text/html": [
       "<div>\n",
       "<style scoped>\n",
       "    .dataframe tbody tr th:only-of-type {\n",
       "        vertical-align: middle;\n",
       "    }\n",
       "\n",
       "    .dataframe tbody tr th {\n",
       "        vertical-align: top;\n",
       "    }\n",
       "\n",
       "    .dataframe thead th {\n",
       "        text-align: right;\n",
       "    }\n",
       "</style>\n",
       "<table border=\"1\" class=\"dataframe\">\n",
       "  <thead>\n",
       "    <tr style=\"text-align: right;\">\n",
       "      <th></th>\n",
       "      <th>Name</th>\n",
       "      <th>dtypes</th>\n",
       "      <th>nunique</th>\n",
       "      <th>missing value</th>\n",
       "      <th>unique value</th>\n",
       "    </tr>\n",
       "  </thead>\n",
       "  <tbody>\n",
       "    <tr>\n",
       "      <th>0</th>\n",
       "      <td>Order ID</td>\n",
       "      <td>object</td>\n",
       "      <td>120378</td>\n",
       "      <td>0</td>\n",
       "      <td>[405-8078784-5731545, 171-9198151-1101146, 404...</td>\n",
       "    </tr>\n",
       "    <tr>\n",
       "      <th>1</th>\n",
       "      <td>Date</td>\n",
       "      <td>object</td>\n",
       "      <td>91</td>\n",
       "      <td>0</td>\n",
       "      <td>[04-30-22, 04-29-22, 04-28-22, 04-27-22, 04-26...</td>\n",
       "    </tr>\n",
       "    <tr>\n",
       "      <th>2</th>\n",
       "      <td>Status</td>\n",
       "      <td>object</td>\n",
       "      <td>13</td>\n",
       "      <td>0</td>\n",
       "      <td>[Cancelled, Shipped - Delivered to Buyer, Ship...</td>\n",
       "    </tr>\n",
       "    <tr>\n",
       "      <th>3</th>\n",
       "      <td>Fulfilment</td>\n",
       "      <td>object</td>\n",
       "      <td>2</td>\n",
       "      <td>0</td>\n",
       "      <td>[Merchant, Amazon]</td>\n",
       "    </tr>\n",
       "    <tr>\n",
       "      <th>4</th>\n",
       "      <td>Sales Channel</td>\n",
       "      <td>object</td>\n",
       "      <td>2</td>\n",
       "      <td>0</td>\n",
       "      <td>[Amazon.in, Non-Amazon]</td>\n",
       "    </tr>\n",
       "    <tr>\n",
       "      <th>5</th>\n",
       "      <td>ship-service-level</td>\n",
       "      <td>object</td>\n",
       "      <td>2</td>\n",
       "      <td>0</td>\n",
       "      <td>[Standard, Expedited]</td>\n",
       "    </tr>\n",
       "    <tr>\n",
       "      <th>6</th>\n",
       "      <td>Style</td>\n",
       "      <td>object</td>\n",
       "      <td>1377</td>\n",
       "      <td>0</td>\n",
       "      <td>[SET389, JNE3781, JNE3371, J0341, JNE3671, SET...</td>\n",
       "    </tr>\n",
       "    <tr>\n",
       "      <th>7</th>\n",
       "      <td>SKU</td>\n",
       "      <td>object</td>\n",
       "      <td>7195</td>\n",
       "      <td>0</td>\n",
       "      <td>[SET389-KR-NP-S, JNE3781-KR-XXXL, JNE3371-KR-X...</td>\n",
       "    </tr>\n",
       "    <tr>\n",
       "      <th>8</th>\n",
       "      <td>Category</td>\n",
       "      <td>object</td>\n",
       "      <td>9</td>\n",
       "      <td>0</td>\n",
       "      <td>[Set, kurta, Western Dress, Top, Ethnic Dress,...</td>\n",
       "    </tr>\n",
       "    <tr>\n",
       "      <th>9</th>\n",
       "      <td>Size</td>\n",
       "      <td>object</td>\n",
       "      <td>11</td>\n",
       "      <td>0</td>\n",
       "      <td>[S, 3XL, XL, L, XXL, XS, 6XL, M, 4XL, 5XL, Free]</td>\n",
       "    </tr>\n",
       "    <tr>\n",
       "      <th>10</th>\n",
       "      <td>ASIN</td>\n",
       "      <td>object</td>\n",
       "      <td>7190</td>\n",
       "      <td>0</td>\n",
       "      <td>[B09KXVBD7Z, B09K3WFS32, B07WV4JV4D, B099NRCT7...</td>\n",
       "    </tr>\n",
       "    <tr>\n",
       "      <th>11</th>\n",
       "      <td>Courier Status</td>\n",
       "      <td>object</td>\n",
       "      <td>3</td>\n",
       "      <td>6872</td>\n",
       "      <td>[nan, Shipped, Cancelled, Unshipped]</td>\n",
       "    </tr>\n",
       "    <tr>\n",
       "      <th>12</th>\n",
       "      <td>Qty</td>\n",
       "      <td>int64</td>\n",
       "      <td>10</td>\n",
       "      <td>0</td>\n",
       "      <td>[0, 1, 2, 15, 3, 9, 13, 5, 4, 8]</td>\n",
       "    </tr>\n",
       "    <tr>\n",
       "      <th>13</th>\n",
       "      <td>currency</td>\n",
       "      <td>object</td>\n",
       "      <td>1</td>\n",
       "      <td>7795</td>\n",
       "      <td>[INR, nan]</td>\n",
       "    </tr>\n",
       "    <tr>\n",
       "      <th>14</th>\n",
       "      <td>Amount</td>\n",
       "      <td>float64</td>\n",
       "      <td>1410</td>\n",
       "      <td>7795</td>\n",
       "      <td>[647.62, 406.0, 329.0, 753.33, 574.0, 824.0, 6...</td>\n",
       "    </tr>\n",
       "    <tr>\n",
       "      <th>15</th>\n",
       "      <td>ship-city</td>\n",
       "      <td>object</td>\n",
       "      <td>8955</td>\n",
       "      <td>33</td>\n",
       "      <td>[MUMBAI, BENGALURU, NAVI MUMBAI, PUDUCHERRY, C...</td>\n",
       "    </tr>\n",
       "    <tr>\n",
       "      <th>16</th>\n",
       "      <td>ship-state</td>\n",
       "      <td>object</td>\n",
       "      <td>69</td>\n",
       "      <td>33</td>\n",
       "      <td>[MAHARASHTRA, KARNATAKA, PUDUCHERRY, TAMIL NAD...</td>\n",
       "    </tr>\n",
       "    <tr>\n",
       "      <th>17</th>\n",
       "      <td>ship-postal-code</td>\n",
       "      <td>float64</td>\n",
       "      <td>9459</td>\n",
       "      <td>33</td>\n",
       "      <td>[400081.0, 560085.0, 410210.0, 605008.0, 60007...</td>\n",
       "    </tr>\n",
       "    <tr>\n",
       "      <th>18</th>\n",
       "      <td>ship-country</td>\n",
       "      <td>object</td>\n",
       "      <td>1</td>\n",
       "      <td>33</td>\n",
       "      <td>[IN, nan]</td>\n",
       "    </tr>\n",
       "    <tr>\n",
       "      <th>19</th>\n",
       "      <td>promotion-ids</td>\n",
       "      <td>object</td>\n",
       "      <td>5787</td>\n",
       "      <td>49153</td>\n",
       "      <td>[nan, Amazon PLCC Free-Financing Universal Mer...</td>\n",
       "    </tr>\n",
       "    <tr>\n",
       "      <th>20</th>\n",
       "      <td>B2B</td>\n",
       "      <td>bool</td>\n",
       "      <td>2</td>\n",
       "      <td>0</td>\n",
       "      <td>[False, True]</td>\n",
       "    </tr>\n",
       "    <tr>\n",
       "      <th>21</th>\n",
       "      <td>fulfilled-by</td>\n",
       "      <td>object</td>\n",
       "      <td>1</td>\n",
       "      <td>89698</td>\n",
       "      <td>[Easy Ship, nan]</td>\n",
       "    </tr>\n",
       "    <tr>\n",
       "      <th>22</th>\n",
       "      <td>Unnamed: 22</td>\n",
       "      <td>object</td>\n",
       "      <td>1</td>\n",
       "      <td>49050</td>\n",
       "      <td>[nan, False]</td>\n",
       "    </tr>\n",
       "  </tbody>\n",
       "</table>\n",
       "</div>"
      ],
      "text/plain": [
       "                  Name   dtypes  nunique  missing value  \\\n",
       "0             Order ID   object   120378              0   \n",
       "1                 Date   object       91              0   \n",
       "2               Status   object       13              0   \n",
       "3           Fulfilment   object        2              0   \n",
       "4       Sales Channel    object        2              0   \n",
       "5   ship-service-level   object        2              0   \n",
       "6                Style   object     1377              0   \n",
       "7                  SKU   object     7195              0   \n",
       "8             Category   object        9              0   \n",
       "9                 Size   object       11              0   \n",
       "10                ASIN   object     7190              0   \n",
       "11      Courier Status   object        3           6872   \n",
       "12                 Qty    int64       10              0   \n",
       "13            currency   object        1           7795   \n",
       "14              Amount  float64     1410           7795   \n",
       "15           ship-city   object     8955             33   \n",
       "16          ship-state   object       69             33   \n",
       "17    ship-postal-code  float64     9459             33   \n",
       "18        ship-country   object        1             33   \n",
       "19       promotion-ids   object     5787          49153   \n",
       "20                 B2B     bool        2              0   \n",
       "21        fulfilled-by   object        1          89698   \n",
       "22         Unnamed: 22   object        1          49050   \n",
       "\n",
       "                                         unique value  \n",
       "0   [405-8078784-5731545, 171-9198151-1101146, 404...  \n",
       "1   [04-30-22, 04-29-22, 04-28-22, 04-27-22, 04-26...  \n",
       "2   [Cancelled, Shipped - Delivered to Buyer, Ship...  \n",
       "3                                  [Merchant, Amazon]  \n",
       "4                             [Amazon.in, Non-Amazon]  \n",
       "5                               [Standard, Expedited]  \n",
       "6   [SET389, JNE3781, JNE3371, J0341, JNE3671, SET...  \n",
       "7   [SET389-KR-NP-S, JNE3781-KR-XXXL, JNE3371-KR-X...  \n",
       "8   [Set, kurta, Western Dress, Top, Ethnic Dress,...  \n",
       "9    [S, 3XL, XL, L, XXL, XS, 6XL, M, 4XL, 5XL, Free]  \n",
       "10  [B09KXVBD7Z, B09K3WFS32, B07WV4JV4D, B099NRCT7...  \n",
       "11               [nan, Shipped, Cancelled, Unshipped]  \n",
       "12                   [0, 1, 2, 15, 3, 9, 13, 5, 4, 8]  \n",
       "13                                         [INR, nan]  \n",
       "14  [647.62, 406.0, 329.0, 753.33, 574.0, 824.0, 6...  \n",
       "15  [MUMBAI, BENGALURU, NAVI MUMBAI, PUDUCHERRY, C...  \n",
       "16  [MAHARASHTRA, KARNATAKA, PUDUCHERRY, TAMIL NAD...  \n",
       "17  [400081.0, 560085.0, 410210.0, 605008.0, 60007...  \n",
       "18                                          [IN, nan]  \n",
       "19  [nan, Amazon PLCC Free-Financing Universal Mer...  \n",
       "20                                      [False, True]  \n",
       "21                                   [Easy Ship, nan]  \n",
       "22                                       [nan, False]  "
      ]
     },
     "execution_count": 15,
     "metadata": {},
     "output_type": "execute_result"
    }
   ],
   "source": [
    "summarization(amazon)"
   ]
  },
  {
   "cell_type": "markdown",
   "id": "ff80c968",
   "metadata": {},
   "source": [
    "# 2. 제거하기"
   ]
  },
  {
   "cell_type": "markdown",
   "id": "ac6f4965",
   "metadata": {},
   "source": [
    "## 2.1 판매채널에서 아마존 아닌 부분 제거하기"
   ]
  },
  {
   "cell_type": "code",
   "execution_count": 7,
   "id": "08848939",
   "metadata": {},
   "outputs": [
    {
     "data": {
      "text/plain": [
       "Sales Channel \n",
       "Amazon.in     128851\n",
       "Non-Amazon       124\n",
       "Name: count, dtype: int64"
      ]
     },
     "execution_count": 7,
     "metadata": {},
     "output_type": "execute_result"
    }
   ],
   "source": [
    "amazon['Sales Channel '].value_counts()"
   ]
  },
  {
   "cell_type": "code",
   "execution_count": 8,
   "id": "d5916034",
   "metadata": {},
   "outputs": [],
   "source": [
    "#Non-Amazon 을 값는 행 제거하기 \n",
    "amazon = amazon[amazon['Sales Channel '] != 'Non-Amazon']"
   ]
  },
  {
   "cell_type": "markdown",
   "id": "8faf7cfb",
   "metadata": {},
   "source": [
    "## 2.2 필요없는 컬럼 드롭하기"
   ]
  },
  {
   "cell_type": "code",
   "execution_count": 9,
   "id": "f159d048",
   "metadata": {
    "scrolled": true
   },
   "outputs": [
    {
     "data": {
      "text/plain": [
       "Sales Channel \n",
       "Amazon.in    128851\n",
       "Name: count, dtype: int64"
      ]
     },
     "execution_count": 9,
     "metadata": {},
     "output_type": "execute_result"
    }
   ],
   "source": [
    "amazon['Sales Channel '].value_counts(dropna = False)"
   ]
  },
  {
   "cell_type": "code",
   "execution_count": 10,
   "id": "4555df0f",
   "metadata": {},
   "outputs": [
    {
     "data": {
      "text/plain": [
       "currency\n",
       "INR    0.940466\n",
       "NaN    0.059534\n",
       "Name: proportion, dtype: float64"
      ]
     },
     "execution_count": 10,
     "metadata": {},
     "output_type": "execute_result"
    }
   ],
   "source": [
    "amazon['currency'].value_counts(dropna= False, normalize = True)"
   ]
  },
  {
   "cell_type": "code",
   "execution_count": 11,
   "id": "09239a14",
   "metadata": {},
   "outputs": [
    {
     "data": {
      "text/plain": [
       "ship-country\n",
       "IN     0.999744\n",
       "NaN    0.000256\n",
       "Name: proportion, dtype: float64"
      ]
     },
     "execution_count": 11,
     "metadata": {},
     "output_type": "execute_result"
    }
   ],
   "source": [
    "amazon['ship-country'].value_counts(dropna= False, normalize = True)"
   ]
  },
  {
   "cell_type": "code",
   "execution_count": 12,
   "id": "24f04663",
   "metadata": {},
   "outputs": [
    {
     "data": {
      "text/plain": [
       "Unnamed: 22\n",
       "False    79854\n",
       "NaN      48997\n",
       "Name: count, dtype: int64"
      ]
     },
     "execution_count": 12,
     "metadata": {},
     "output_type": "execute_result"
    }
   ],
   "source": [
    "amazon[\"Unnamed: 22\"].value_counts(dropna = False)"
   ]
  },
  {
   "cell_type": "code",
   "execution_count": 13,
   "id": "b0e6a071",
   "metadata": {},
   "outputs": [
    {
     "data": {
      "text/plain": [
       "fulfilled-by\n",
       "NaN          89574\n",
       "Easy Ship    39277\n",
       "Name: count, dtype: int64"
      ]
     },
     "execution_count": 13,
     "metadata": {},
     "output_type": "execute_result"
    }
   ],
   "source": [
    "amazon[\"fulfilled-by\"].value_counts(dropna = False) "
   ]
  },
  {
   "cell_type": "code",
   "execution_count": 16,
   "id": "b4eb293f",
   "metadata": {},
   "outputs": [
    {
     "data": {
      "text/plain": [
       "Fulfilment\n",
       "Amazon      89698\n",
       "Merchant    39277\n",
       "Name: count, dtype: int64"
      ]
     },
     "execution_count": 16,
     "metadata": {},
     "output_type": "execute_result"
    }
   ],
   "source": [
    "amazon['Fulfilment'].value_counts(dropna = False)"
   ]
  },
  {
   "cell_type": "code",
   "execution_count": 25,
   "id": "905f06c9",
   "metadata": {},
   "outputs": [
    {
     "data": {
      "text/html": [
       "<div>\n",
       "<style scoped>\n",
       "    .dataframe tbody tr th:only-of-type {\n",
       "        vertical-align: middle;\n",
       "    }\n",
       "\n",
       "    .dataframe tbody tr th {\n",
       "        vertical-align: top;\n",
       "    }\n",
       "\n",
       "    .dataframe thead th {\n",
       "        text-align: right;\n",
       "    }\n",
       "</style>\n",
       "<table border=\"1\" class=\"dataframe\">\n",
       "  <thead>\n",
       "    <tr style=\"text-align: right;\">\n",
       "      <th></th>\n",
       "      <th>Order ID</th>\n",
       "      <th>Date</th>\n",
       "      <th>Status</th>\n",
       "      <th>Fulfilment</th>\n",
       "      <th>Sales Channel</th>\n",
       "      <th>ship-service-level</th>\n",
       "      <th>Style</th>\n",
       "      <th>SKU</th>\n",
       "      <th>Category</th>\n",
       "      <th>Size</th>\n",
       "      <th>...</th>\n",
       "      <th>currency</th>\n",
       "      <th>Amount</th>\n",
       "      <th>ship-city</th>\n",
       "      <th>ship-state</th>\n",
       "      <th>ship-postal-code</th>\n",
       "      <th>ship-country</th>\n",
       "      <th>promotion-ids</th>\n",
       "      <th>B2B</th>\n",
       "      <th>fulfilled-by</th>\n",
       "      <th>Unnamed: 22</th>\n",
       "    </tr>\n",
       "  </thead>\n",
       "  <tbody>\n",
       "  </tbody>\n",
       "</table>\n",
       "<p>0 rows × 23 columns</p>\n",
       "</div>"
      ],
      "text/plain": [
       "Empty DataFrame\n",
       "Columns: [Order ID, Date, Status, Fulfilment, Sales Channel , ship-service-level, Style, SKU, Category, Size, ASIN, Courier Status, Qty, currency, Amount, ship-city, ship-state, ship-postal-code, ship-country, promotion-ids, B2B, fulfilled-by, Unnamed: 22]\n",
       "Index: []\n",
       "\n",
       "[0 rows x 23 columns]"
      ]
     },
     "execution_count": 25,
     "metadata": {},
     "output_type": "execute_result"
    }
   ],
   "source": [
    "amazon[(amazon['Fulfilment'] == 'Amazon') & (amazon[\"fulfilled-by\"] == 'Easy Ship')]"
   ]
  },
  {
   "cell_type": "code",
   "execution_count": 26,
   "id": "570a86b3",
   "metadata": {},
   "outputs": [],
   "source": [
    "#Keeping only the 'fulfillment' column as both columns contain duplicate information.\n",
    "amazon.drop(columns=['Sales Channel ', 'currency', 'ship-country', 'Unnamed: 22', 'fulfilled-by'], \n",
    "                 inplace=True)"
   ]
  },
  {
   "cell_type": "code",
   "execution_count": 27,
   "id": "151da00c",
   "metadata": {},
   "outputs": [
    {
     "name": "stdout",
     "output_type": "stream",
     "text": [
      "<class 'pandas.core.frame.DataFrame'>\n",
      "RangeIndex: 128975 entries, 0 to 128974\n",
      "Data columns (total 18 columns):\n",
      " #   Column              Non-Null Count   Dtype  \n",
      "---  ------              --------------   -----  \n",
      " 0   Order ID            128975 non-null  object \n",
      " 1   Date                128975 non-null  object \n",
      " 2   Status              128975 non-null  object \n",
      " 3   Fulfilment          128975 non-null  object \n",
      " 4   ship-service-level  128975 non-null  object \n",
      " 5   Style               128975 non-null  object \n",
      " 6   SKU                 128975 non-null  object \n",
      " 7   Category            128975 non-null  object \n",
      " 8   Size                128975 non-null  object \n",
      " 9   ASIN                128975 non-null  object \n",
      " 10  Courier Status      122103 non-null  object \n",
      " 11  Qty                 128975 non-null  int64  \n",
      " 12  Amount              121180 non-null  float64\n",
      " 13  ship-city           128942 non-null  object \n",
      " 14  ship-state          128942 non-null  object \n",
      " 15  ship-postal-code    128942 non-null  float64\n",
      " 16  promotion-ids       79822 non-null   object \n",
      " 17  B2B                 128975 non-null  bool   \n",
      "dtypes: bool(1), float64(2), int64(1), object(14)\n",
      "memory usage: 16.9+ MB\n"
     ]
    }
   ],
   "source": [
    "amazon.info()"
   ]
  },
  {
   "cell_type": "markdown",
   "id": "2245c52c",
   "metadata": {},
   "source": [
    "## 2.3 중복되는 값 제거하기"
   ]
  },
  {
   "cell_type": "code",
   "execution_count": 28,
   "id": "c35d38b3",
   "metadata": {},
   "outputs": [
    {
     "data": {
      "text/html": [
       "<div>\n",
       "<style scoped>\n",
       "    .dataframe tbody tr th:only-of-type {\n",
       "        vertical-align: middle;\n",
       "    }\n",
       "\n",
       "    .dataframe tbody tr th {\n",
       "        vertical-align: top;\n",
       "    }\n",
       "\n",
       "    .dataframe thead th {\n",
       "        text-align: right;\n",
       "    }\n",
       "</style>\n",
       "<table border=\"1\" class=\"dataframe\">\n",
       "  <thead>\n",
       "    <tr style=\"text-align: right;\">\n",
       "      <th></th>\n",
       "      <th>Order ID</th>\n",
       "      <th>Date</th>\n",
       "      <th>Status</th>\n",
       "      <th>Fulfilment</th>\n",
       "      <th>ship-service-level</th>\n",
       "      <th>Style</th>\n",
       "      <th>SKU</th>\n",
       "      <th>Category</th>\n",
       "      <th>Size</th>\n",
       "      <th>ASIN</th>\n",
       "      <th>Courier Status</th>\n",
       "      <th>Qty</th>\n",
       "      <th>Amount</th>\n",
       "      <th>ship-city</th>\n",
       "      <th>ship-state</th>\n",
       "      <th>ship-postal-code</th>\n",
       "      <th>promotion-ids</th>\n",
       "      <th>B2B</th>\n",
       "    </tr>\n",
       "  </thead>\n",
       "  <tbody>\n",
       "    <tr>\n",
       "      <th>30660</th>\n",
       "      <td>406-0372545-6086735</td>\n",
       "      <td>04-12-22</td>\n",
       "      <td>Cancelled</td>\n",
       "      <td>Amazon</td>\n",
       "      <td>Expedited</td>\n",
       "      <td>SET197</td>\n",
       "      <td>SET197-KR-NP-L</td>\n",
       "      <td>Set</td>\n",
       "      <td>L</td>\n",
       "      <td>B08B3YPD63</td>\n",
       "      <td>Cancelled</td>\n",
       "      <td>0</td>\n",
       "      <td>NaN</td>\n",
       "      <td>Siliguri</td>\n",
       "      <td>WEST BENGAL</td>\n",
       "      <td>734008.0</td>\n",
       "      <td>NaN</td>\n",
       "      <td>False</td>\n",
       "    </tr>\n",
       "    <tr>\n",
       "      <th>30661</th>\n",
       "      <td>406-0372545-6086735</td>\n",
       "      <td>04-12-22</td>\n",
       "      <td>Cancelled</td>\n",
       "      <td>Amazon</td>\n",
       "      <td>Expedited</td>\n",
       "      <td>SET197</td>\n",
       "      <td>SET197-KR-NP-L</td>\n",
       "      <td>Set</td>\n",
       "      <td>L</td>\n",
       "      <td>B08B3YPD63</td>\n",
       "      <td>Cancelled</td>\n",
       "      <td>0</td>\n",
       "      <td>NaN</td>\n",
       "      <td>Siliguri</td>\n",
       "      <td>WEST BENGAL</td>\n",
       "      <td>734008.0</td>\n",
       "      <td>NaN</td>\n",
       "      <td>False</td>\n",
       "    </tr>\n",
       "    <tr>\n",
       "      <th>41291</th>\n",
       "      <td>408-0373839-4433120</td>\n",
       "      <td>04-05-22</td>\n",
       "      <td>Cancelled</td>\n",
       "      <td>Amazon</td>\n",
       "      <td>Expedited</td>\n",
       "      <td>JNE3501</td>\n",
       "      <td>JNE3501-KR-M</td>\n",
       "      <td>kurta</td>\n",
       "      <td>M</td>\n",
       "      <td>B08MYVCDB4</td>\n",
       "      <td>Cancelled</td>\n",
       "      <td>0</td>\n",
       "      <td>NaN</td>\n",
       "      <td>BENGALURU</td>\n",
       "      <td>KARNATAKA</td>\n",
       "      <td>560072.0</td>\n",
       "      <td>NaN</td>\n",
       "      <td>False</td>\n",
       "    </tr>\n",
       "    <tr>\n",
       "      <th>41292</th>\n",
       "      <td>408-0373839-4433120</td>\n",
       "      <td>04-05-22</td>\n",
       "      <td>Cancelled</td>\n",
       "      <td>Amazon</td>\n",
       "      <td>Expedited</td>\n",
       "      <td>JNE3501</td>\n",
       "      <td>JNE3501-KR-M</td>\n",
       "      <td>kurta</td>\n",
       "      <td>M</td>\n",
       "      <td>B08MYVCDB4</td>\n",
       "      <td>Cancelled</td>\n",
       "      <td>0</td>\n",
       "      <td>NaN</td>\n",
       "      <td>BENGALURU</td>\n",
       "      <td>KARNATAKA</td>\n",
       "      <td>560072.0</td>\n",
       "      <td>NaN</td>\n",
       "      <td>False</td>\n",
       "    </tr>\n",
       "    <tr>\n",
       "      <th>52330</th>\n",
       "      <td>407-8364731-6449117</td>\n",
       "      <td>05-29-22</td>\n",
       "      <td>Shipped</td>\n",
       "      <td>Amazon</td>\n",
       "      <td>Expedited</td>\n",
       "      <td>JNE3769</td>\n",
       "      <td>JNE3769-KR-L</td>\n",
       "      <td>kurta</td>\n",
       "      <td>L</td>\n",
       "      <td>B09K3T675B</td>\n",
       "      <td>Cancelled</td>\n",
       "      <td>0</td>\n",
       "      <td>NaN</td>\n",
       "      <td>Theni</td>\n",
       "      <td>TAMIL NADU</td>\n",
       "      <td>625579.0</td>\n",
       "      <td>IN Core Free Shipping 2015/04/08 23-48-5-108</td>\n",
       "      <td>False</td>\n",
       "    </tr>\n",
       "    <tr>\n",
       "      <th>52333</th>\n",
       "      <td>407-8364731-6449117</td>\n",
       "      <td>05-29-22</td>\n",
       "      <td>Shipped</td>\n",
       "      <td>Amazon</td>\n",
       "      <td>Expedited</td>\n",
       "      <td>JNE3769</td>\n",
       "      <td>JNE3769-KR-L</td>\n",
       "      <td>kurta</td>\n",
       "      <td>L</td>\n",
       "      <td>B09K3T675B</td>\n",
       "      <td>Shipped</td>\n",
       "      <td>1</td>\n",
       "      <td>487.0</td>\n",
       "      <td>Theni</td>\n",
       "      <td>TAMIL NADU</td>\n",
       "      <td>625579.0</td>\n",
       "      <td>IN Core Free Shipping 2015/04/08 23-48-5-108</td>\n",
       "      <td>False</td>\n",
       "    </tr>\n",
       "    <tr>\n",
       "      <th>79844</th>\n",
       "      <td>171-9628368-5329958</td>\n",
       "      <td>05-07-22</td>\n",
       "      <td>Cancelled</td>\n",
       "      <td>Amazon</td>\n",
       "      <td>Expedited</td>\n",
       "      <td>J0329</td>\n",
       "      <td>J0329-KR-L</td>\n",
       "      <td>kurta</td>\n",
       "      <td>L</td>\n",
       "      <td>B09KXRB7JV</td>\n",
       "      <td>Cancelled</td>\n",
       "      <td>0</td>\n",
       "      <td>NaN</td>\n",
       "      <td>ERNAKULAM</td>\n",
       "      <td>KERALA</td>\n",
       "      <td>682017.0</td>\n",
       "      <td>NaN</td>\n",
       "      <td>False</td>\n",
       "    </tr>\n",
       "    <tr>\n",
       "      <th>79845</th>\n",
       "      <td>171-9628368-5329958</td>\n",
       "      <td>05-07-22</td>\n",
       "      <td>Cancelled</td>\n",
       "      <td>Amazon</td>\n",
       "      <td>Expedited</td>\n",
       "      <td>J0329</td>\n",
       "      <td>J0329-KR-L</td>\n",
       "      <td>kurta</td>\n",
       "      <td>L</td>\n",
       "      <td>B09KXRB7JV</td>\n",
       "      <td>Cancelled</td>\n",
       "      <td>0</td>\n",
       "      <td>NaN</td>\n",
       "      <td>ERNAKULAM</td>\n",
       "      <td>KERALA</td>\n",
       "      <td>682017.0</td>\n",
       "      <td>NaN</td>\n",
       "      <td>False</td>\n",
       "    </tr>\n",
       "    <tr>\n",
       "      <th>85790</th>\n",
       "      <td>171-3249942-2207542</td>\n",
       "      <td>05-03-22</td>\n",
       "      <td>Shipped</td>\n",
       "      <td>Amazon</td>\n",
       "      <td>Expedited</td>\n",
       "      <td>SET323</td>\n",
       "      <td>SET323-KR-NP-XL</td>\n",
       "      <td>Set</td>\n",
       "      <td>XL</td>\n",
       "      <td>B09NDKKM7P</td>\n",
       "      <td>Shipped</td>\n",
       "      <td>1</td>\n",
       "      <td>939.0</td>\n",
       "      <td>PUNE</td>\n",
       "      <td>MAHARASHTRA</td>\n",
       "      <td>411057.0</td>\n",
       "      <td>IN Core Free Shipping 2015/04/08 23-48-5-108</td>\n",
       "      <td>False</td>\n",
       "    </tr>\n",
       "    <tr>\n",
       "      <th>85791</th>\n",
       "      <td>171-3249942-2207542</td>\n",
       "      <td>05-03-22</td>\n",
       "      <td>Shipped</td>\n",
       "      <td>Amazon</td>\n",
       "      <td>Expedited</td>\n",
       "      <td>SET323</td>\n",
       "      <td>SET323-KR-NP-XL</td>\n",
       "      <td>Set</td>\n",
       "      <td>XL</td>\n",
       "      <td>B09NDKKM7P</td>\n",
       "      <td>Shipped</td>\n",
       "      <td>1</td>\n",
       "      <td>939.0</td>\n",
       "      <td>PUNE</td>\n",
       "      <td>MAHARASHTRA</td>\n",
       "      <td>411057.0</td>\n",
       "      <td>IN Core Free Shipping 2015/04/08 23-48-5-108</td>\n",
       "      <td>False</td>\n",
       "    </tr>\n",
       "    <tr>\n",
       "      <th>86418</th>\n",
       "      <td>405-8669298-3850736</td>\n",
       "      <td>05-03-22</td>\n",
       "      <td>Shipped</td>\n",
       "      <td>Amazon</td>\n",
       "      <td>Expedited</td>\n",
       "      <td>MEN5025</td>\n",
       "      <td>MEN5025-KR-XXXL</td>\n",
       "      <td>kurta</td>\n",
       "      <td>3XL</td>\n",
       "      <td>B08YYQS8FH</td>\n",
       "      <td>Shipped</td>\n",
       "      <td>1</td>\n",
       "      <td>533.0</td>\n",
       "      <td>GHAZIABAD</td>\n",
       "      <td>UTTAR PRADESH</td>\n",
       "      <td>201010.0</td>\n",
       "      <td>IN Core Free Shipping 2015/04/08 23-48-5-108</td>\n",
       "      <td>False</td>\n",
       "    </tr>\n",
       "    <tr>\n",
       "      <th>86419</th>\n",
       "      <td>405-8669298-3850736</td>\n",
       "      <td>05-03-22</td>\n",
       "      <td>Shipped</td>\n",
       "      <td>Amazon</td>\n",
       "      <td>Expedited</td>\n",
       "      <td>MEN5025</td>\n",
       "      <td>MEN5025-KR-XXXL</td>\n",
       "      <td>kurta</td>\n",
       "      <td>3XL</td>\n",
       "      <td>B08YYQS8FH</td>\n",
       "      <td>Shipped</td>\n",
       "      <td>1</td>\n",
       "      <td>533.0</td>\n",
       "      <td>GHAZIABAD</td>\n",
       "      <td>UTTAR PRADESH</td>\n",
       "      <td>201010.0</td>\n",
       "      <td>IN Core Free Shipping 2015/04/08 23-48-5-108</td>\n",
       "      <td>False</td>\n",
       "    </tr>\n",
       "    <tr>\n",
       "      <th>98954</th>\n",
       "      <td>407-4853873-4978725</td>\n",
       "      <td>06-22-22</td>\n",
       "      <td>Shipped</td>\n",
       "      <td>Amazon</td>\n",
       "      <td>Expedited</td>\n",
       "      <td>J0230</td>\n",
       "      <td>J0230-SKD-M</td>\n",
       "      <td>Set</td>\n",
       "      <td>M</td>\n",
       "      <td>B08XNJG8B1</td>\n",
       "      <td>Shipped</td>\n",
       "      <td>1</td>\n",
       "      <td>1163.0</td>\n",
       "      <td>Zirakpur</td>\n",
       "      <td>Punjab</td>\n",
       "      <td>140603.0</td>\n",
       "      <td>IN Core Free Shipping 2015/04/08 23-48-5-108</td>\n",
       "      <td>False</td>\n",
       "    </tr>\n",
       "    <tr>\n",
       "      <th>98955</th>\n",
       "      <td>407-4853873-4978725</td>\n",
       "      <td>06-22-22</td>\n",
       "      <td>Shipped</td>\n",
       "      <td>Amazon</td>\n",
       "      <td>Expedited</td>\n",
       "      <td>J0230</td>\n",
       "      <td>J0230-SKD-M</td>\n",
       "      <td>Set</td>\n",
       "      <td>M</td>\n",
       "      <td>B08XNJG8B1</td>\n",
       "      <td>Shipped</td>\n",
       "      <td>1</td>\n",
       "      <td>1163.0</td>\n",
       "      <td>Zirakpur</td>\n",
       "      <td>Punjab</td>\n",
       "      <td>140603.0</td>\n",
       "      <td>IN Core Free Shipping 2015/04/08 23-48-5-108</td>\n",
       "      <td>False</td>\n",
       "    </tr>\n",
       "  </tbody>\n",
       "</table>\n",
       "</div>"
      ],
      "text/plain": [
       "                  Order ID      Date     Status Fulfilment ship-service-level  \\\n",
       "30660  406-0372545-6086735  04-12-22  Cancelled     Amazon          Expedited   \n",
       "30661  406-0372545-6086735  04-12-22  Cancelled     Amazon          Expedited   \n",
       "41291  408-0373839-4433120  04-05-22  Cancelled     Amazon          Expedited   \n",
       "41292  408-0373839-4433120  04-05-22  Cancelled     Amazon          Expedited   \n",
       "52330  407-8364731-6449117  05-29-22    Shipped     Amazon          Expedited   \n",
       "52333  407-8364731-6449117  05-29-22    Shipped     Amazon          Expedited   \n",
       "79844  171-9628368-5329958  05-07-22  Cancelled     Amazon          Expedited   \n",
       "79845  171-9628368-5329958  05-07-22  Cancelled     Amazon          Expedited   \n",
       "85790  171-3249942-2207542  05-03-22    Shipped     Amazon          Expedited   \n",
       "85791  171-3249942-2207542  05-03-22    Shipped     Amazon          Expedited   \n",
       "86418  405-8669298-3850736  05-03-22    Shipped     Amazon          Expedited   \n",
       "86419  405-8669298-3850736  05-03-22    Shipped     Amazon          Expedited   \n",
       "98954  407-4853873-4978725  06-22-22    Shipped     Amazon          Expedited   \n",
       "98955  407-4853873-4978725  06-22-22    Shipped     Amazon          Expedited   \n",
       "\n",
       "         Style              SKU Category Size        ASIN Courier Status  Qty  \\\n",
       "30660   SET197   SET197-KR-NP-L      Set    L  B08B3YPD63      Cancelled    0   \n",
       "30661   SET197   SET197-KR-NP-L      Set    L  B08B3YPD63      Cancelled    0   \n",
       "41291  JNE3501     JNE3501-KR-M    kurta    M  B08MYVCDB4      Cancelled    0   \n",
       "41292  JNE3501     JNE3501-KR-M    kurta    M  B08MYVCDB4      Cancelled    0   \n",
       "52330  JNE3769     JNE3769-KR-L    kurta    L  B09K3T675B      Cancelled    0   \n",
       "52333  JNE3769     JNE3769-KR-L    kurta    L  B09K3T675B        Shipped    1   \n",
       "79844    J0329       J0329-KR-L    kurta    L  B09KXRB7JV      Cancelled    0   \n",
       "79845    J0329       J0329-KR-L    kurta    L  B09KXRB7JV      Cancelled    0   \n",
       "85790   SET323  SET323-KR-NP-XL      Set   XL  B09NDKKM7P        Shipped    1   \n",
       "85791   SET323  SET323-KR-NP-XL      Set   XL  B09NDKKM7P        Shipped    1   \n",
       "86418  MEN5025  MEN5025-KR-XXXL    kurta  3XL  B08YYQS8FH        Shipped    1   \n",
       "86419  MEN5025  MEN5025-KR-XXXL    kurta  3XL  B08YYQS8FH        Shipped    1   \n",
       "98954    J0230      J0230-SKD-M      Set    M  B08XNJG8B1        Shipped    1   \n",
       "98955    J0230      J0230-SKD-M      Set    M  B08XNJG8B1        Shipped    1   \n",
       "\n",
       "       Amount  ship-city     ship-state  ship-postal-code  \\\n",
       "30660     NaN   Siliguri    WEST BENGAL          734008.0   \n",
       "30661     NaN   Siliguri    WEST BENGAL          734008.0   \n",
       "41291     NaN  BENGALURU      KARNATAKA          560072.0   \n",
       "41292     NaN  BENGALURU      KARNATAKA          560072.0   \n",
       "52330     NaN      Theni     TAMIL NADU          625579.0   \n",
       "52333   487.0      Theni     TAMIL NADU          625579.0   \n",
       "79844     NaN  ERNAKULAM         KERALA          682017.0   \n",
       "79845     NaN  ERNAKULAM         KERALA          682017.0   \n",
       "85790   939.0       PUNE    MAHARASHTRA          411057.0   \n",
       "85791   939.0       PUNE    MAHARASHTRA          411057.0   \n",
       "86418   533.0  GHAZIABAD  UTTAR PRADESH          201010.0   \n",
       "86419   533.0  GHAZIABAD  UTTAR PRADESH          201010.0   \n",
       "98954  1163.0   Zirakpur         Punjab          140603.0   \n",
       "98955  1163.0   Zirakpur         Punjab          140603.0   \n",
       "\n",
       "                                      promotion-ids    B2B  \n",
       "30660                                           NaN  False  \n",
       "30661                                           NaN  False  \n",
       "41291                                           NaN  False  \n",
       "41292                                           NaN  False  \n",
       "52330  IN Core Free Shipping 2015/04/08 23-48-5-108  False  \n",
       "52333  IN Core Free Shipping 2015/04/08 23-48-5-108  False  \n",
       "79844                                           NaN  False  \n",
       "79845                                           NaN  False  \n",
       "85790  IN Core Free Shipping 2015/04/08 23-48-5-108  False  \n",
       "85791  IN Core Free Shipping 2015/04/08 23-48-5-108  False  \n",
       "86418  IN Core Free Shipping 2015/04/08 23-48-5-108  False  \n",
       "86419  IN Core Free Shipping 2015/04/08 23-48-5-108  False  \n",
       "98954  IN Core Free Shipping 2015/04/08 23-48-5-108  False  \n",
       "98955  IN Core Free Shipping 2015/04/08 23-48-5-108  False  "
      ]
     },
     "execution_count": 28,
     "metadata": {},
     "output_type": "execute_result"
    }
   ],
   "source": [
    "amazon[amazon.duplicated(['Order ID','ASIN'], keep=False)]"
   ]
  },
  {
   "cell_type": "code",
   "execution_count": 17,
   "id": "cb95f479",
   "metadata": {},
   "outputs": [
    {
     "data": {
      "text/plain": [
       "7"
      ]
     },
     "execution_count": 17,
     "metadata": {},
     "output_type": "execute_result"
    }
   ],
   "source": [
    "len(amazon)-len(amazon.drop_duplicates(['Order ID','ASIN']))"
   ]
  },
  {
   "cell_type": "code",
   "execution_count": 18,
   "id": "524ddb35",
   "metadata": {},
   "outputs": [
    {
     "name": "stderr",
     "output_type": "stream",
     "text": [
      "C:\\Users\\hyein\\AppData\\Local\\Temp\\ipykernel_22856\\4015937399.py:1: SettingWithCopyWarning: \n",
      "A value is trying to be set on a copy of a slice from a DataFrame\n",
      "\n",
      "See the caveats in the documentation: https://pandas.pydata.org/pandas-docs/stable/user_guide/indexing.html#returning-a-view-versus-a-copy\n",
      "  amazon.drop_duplicates(['Order ID','ASIN'],inplace = True,ignore_index=True)\n"
     ]
    }
   ],
   "source": [
    "amazon.drop_duplicates(['Order ID','ASIN'],inplace = True,ignore_index=True)"
   ]
  },
  {
   "cell_type": "code",
   "execution_count": 19,
   "id": "1c002153",
   "metadata": {},
   "outputs": [
    {
     "name": "stdout",
     "output_type": "stream",
     "text": [
      "<class 'pandas.core.frame.DataFrame'>\n",
      "RangeIndex: 128844 entries, 0 to 128843\n",
      "Data columns (total 18 columns):\n",
      " #   Column              Non-Null Count   Dtype  \n",
      "---  ------              --------------   -----  \n",
      " 0   Order ID            128844 non-null  object \n",
      " 1   Date                128844 non-null  object \n",
      " 2   Status              128844 non-null  object \n",
      " 3   Fulfilment          128844 non-null  object \n",
      " 4   ship-service-level  128844 non-null  object \n",
      " 5   Style               128844 non-null  object \n",
      " 6   SKU                 128844 non-null  object \n",
      " 7   Category            128844 non-null  object \n",
      " 8   Size                128844 non-null  object \n",
      " 9   ASIN                128844 non-null  object \n",
      " 10  Courier Status      121972 non-null  object \n",
      " 11  Qty                 128844 non-null  int64  \n",
      " 12  Amount              121176 non-null  float64\n",
      " 13  ship-city           128811 non-null  object \n",
      " 14  ship-state          128811 non-null  object \n",
      " 15  ship-postal-code    128811 non-null  float64\n",
      " 16  promotion-ids       79818 non-null   object \n",
      " 17  B2B                 128844 non-null  bool   \n",
      "dtypes: bool(1), float64(2), int64(1), object(14)\n",
      "memory usage: 16.8+ MB\n"
     ]
    }
   ],
   "source": [
    "amazon.info()"
   ]
  },
  {
   "cell_type": "markdown",
   "id": "c9d8a9f1",
   "metadata": {},
   "source": [
    "# 3. 결측치 채우기"
   ]
  },
  {
   "cell_type": "code",
   "execution_count": 20,
   "id": "2a2a6bf4",
   "metadata": {},
   "outputs": [
    {
     "name": "stderr",
     "output_type": "stream",
     "text": [
      "C:\\Users\\hyein\\AppData\\Local\\Temp\\ipykernel_22856\\148288112.py:1: SettingWithCopyWarning: \n",
      "A value is trying to be set on a copy of a slice from a DataFrame\n",
      "\n",
      "See the caveats in the documentation: https://pandas.pydata.org/pandas-docs/stable/user_guide/indexing.html#returning-a-view-versus-a-copy\n",
      "  amazon['Courier Status'].fillna('unknown',inplace=True)\n"
     ]
    }
   ],
   "source": [
    "amazon['Courier Status'].fillna('unknown',inplace=True)"
   ]
  },
  {
   "cell_type": "code",
   "execution_count": 21,
   "id": "cb927701",
   "metadata": {},
   "outputs": [
    {
     "name": "stderr",
     "output_type": "stream",
     "text": [
      "C:\\Users\\hyein\\AppData\\Local\\Temp\\ipykernel_22856\\1033079898.py:1: SettingWithCopyWarning: \n",
      "A value is trying to be set on a copy of a slice from a DataFrame\n",
      "\n",
      "See the caveats in the documentation: https://pandas.pydata.org/pandas-docs/stable/user_guide/indexing.html#returning-a-view-versus-a-copy\n",
      "  amazon['promotion-ids'].fillna('no promotion',inplace=True)\n"
     ]
    }
   ],
   "source": [
    "amazon['promotion-ids'].fillna('no promotion',inplace=True)"
   ]
  },
  {
   "cell_type": "code",
   "execution_count": 22,
   "id": "fd4f34b2",
   "metadata": {},
   "outputs": [
    {
     "data": {
      "text/plain": [
       "7668"
      ]
     },
     "execution_count": 22,
     "metadata": {},
     "output_type": "execute_result"
    }
   ],
   "source": [
    "amazon['Amount'].isnull().sum()"
   ]
  },
  {
   "cell_type": "code",
   "execution_count": 23,
   "id": "542b6b4e",
   "metadata": {},
   "outputs": [
    {
     "name": "stderr",
     "output_type": "stream",
     "text": [
      "C:\\Users\\hyein\\AppData\\Local\\Temp\\ipykernel_22856\\3580654317.py:1: SettingWithCopyWarning: \n",
      "A value is trying to be set on a copy of a slice from a DataFrame\n",
      "\n",
      "See the caveats in the documentation: https://pandas.pydata.org/pandas-docs/stable/user_guide/indexing.html#returning-a-view-versus-a-copy\n",
      "  amazon['Amount'].fillna(0,inplace=True)\n"
     ]
    }
   ],
   "source": [
    "amazon['Amount'].fillna(0,inplace=True)"
   ]
  },
  {
   "cell_type": "code",
   "execution_count": 24,
   "id": "27542fb3",
   "metadata": {},
   "outputs": [
    {
     "name": "stderr",
     "output_type": "stream",
     "text": [
      "C:\\Users\\hyein\\AppData\\Local\\Temp\\ipykernel_22856\\872928778.py:1: SettingWithCopyWarning: \n",
      "A value is trying to be set on a copy of a slice from a DataFrame\n",
      "\n",
      "See the caveats in the documentation: https://pandas.pydata.org/pandas-docs/stable/user_guide/indexing.html#returning-a-view-versus-a-copy\n",
      "  amazon['ship-city'].fillna('unknown', inplace = True)\n",
      "C:\\Users\\hyein\\AppData\\Local\\Temp\\ipykernel_22856\\872928778.py:2: SettingWithCopyWarning: \n",
      "A value is trying to be set on a copy of a slice from a DataFrame\n",
      "\n",
      "See the caveats in the documentation: https://pandas.pydata.org/pandas-docs/stable/user_guide/indexing.html#returning-a-view-versus-a-copy\n",
      "  amazon['ship-state'].fillna('unknown', inplace = True)\n",
      "C:\\Users\\hyein\\AppData\\Local\\Temp\\ipykernel_22856\\872928778.py:3: FutureWarning: Setting an item of incompatible dtype is deprecated and will raise in a future error of pandas. Value 'unknown' has dtype incompatible with float64, please explicitly cast to a compatible dtype first.\n",
      "  amazon['ship-postal-code'].fillna('unknown', inplace = True)\n",
      "C:\\Users\\hyein\\AppData\\Local\\Temp\\ipykernel_22856\\872928778.py:3: SettingWithCopyWarning: \n",
      "A value is trying to be set on a copy of a slice from a DataFrame\n",
      "\n",
      "See the caveats in the documentation: https://pandas.pydata.org/pandas-docs/stable/user_guide/indexing.html#returning-a-view-versus-a-copy\n",
      "  amazon['ship-postal-code'].fillna('unknown', inplace = True)\n"
     ]
    }
   ],
   "source": [
    "amazon['ship-city'].fillna('unknown', inplace = True)\n",
    "amazon['ship-state'].fillna('unknown', inplace = True)\n",
    "amazon['ship-postal-code'].fillna('unknown', inplace = True)"
   ]
  },
  {
   "cell_type": "code",
   "execution_count": 25,
   "id": "9605f442",
   "metadata": {},
   "outputs": [
    {
     "name": "stdout",
     "output_type": "stream",
     "text": [
      "<class 'pandas.core.frame.DataFrame'>\n",
      "RangeIndex: 128844 entries, 0 to 128843\n",
      "Data columns (total 18 columns):\n",
      " #   Column              Non-Null Count   Dtype  \n",
      "---  ------              --------------   -----  \n",
      " 0   Order ID            128844 non-null  object \n",
      " 1   Date                128844 non-null  object \n",
      " 2   Status              128844 non-null  object \n",
      " 3   Fulfilment          128844 non-null  object \n",
      " 4   ship-service-level  128844 non-null  object \n",
      " 5   Style               128844 non-null  object \n",
      " 6   SKU                 128844 non-null  object \n",
      " 7   Category            128844 non-null  object \n",
      " 8   Size                128844 non-null  object \n",
      " 9   ASIN                128844 non-null  object \n",
      " 10  Courier Status      128844 non-null  object \n",
      " 11  Qty                 128844 non-null  int64  \n",
      " 12  Amount              128844 non-null  float64\n",
      " 13  ship-city           128844 non-null  object \n",
      " 14  ship-state          128844 non-null  object \n",
      " 15  ship-postal-code    128844 non-null  object \n",
      " 16  promotion-ids       128844 non-null  object \n",
      " 17  B2B                 128844 non-null  bool   \n",
      "dtypes: bool(1), float64(1), int64(1), object(15)\n",
      "memory usage: 16.8+ MB\n"
     ]
    }
   ],
   "source": [
    "amazon.info()"
   ]
  },
  {
   "cell_type": "code",
   "execution_count": 26,
   "id": "7accda32",
   "metadata": {},
   "outputs": [
    {
     "data": {
      "text/plain": [
       "Status\n",
       "Shipped                          77685\n",
       "Shipped - Delivered to Buyer     28769\n",
       "Cancelled                        18328\n",
       "Shipped - Returned to Seller      1953\n",
       "Shipped - Picked Up                973\n",
       "Pending                            658\n",
       "Pending - Waiting for Pick Up      281\n",
       "Shipped - Returning to Seller      145\n",
       "Shipped - Out for Delivery          35\n",
       "Shipped - Rejected by Buyer         11\n",
       "Shipped - Lost in Transit            5\n",
       "Shipped - Damaged                    1\n",
       "Name: count, dtype: int64"
      ]
     },
     "execution_count": 26,
     "metadata": {},
     "output_type": "execute_result"
    }
   ],
   "source": [
    "amazon['Status'].value_counts()"
   ]
  },
  {
   "cell_type": "code",
   "execution_count": 89,
   "id": "1e5bf2a4",
   "metadata": {},
   "outputs": [
    {
     "name": "stdout",
     "output_type": "stream",
     "text": [
      "<class 'pandas.core.frame.DataFrame'>\n",
      "Index: 7554 entries, 48023 to 91526\n",
      "Data columns (total 19 columns):\n",
      " #   Column            Non-Null Count  Dtype  \n",
      "---  ------            --------------  -----  \n",
      " 0   order_ID          7554 non-null   object \n",
      " 1   date              7554 non-null   object \n",
      " 2   ship_status       7554 non-null   object \n",
      " 3   fullfilment       7554 non-null   object \n",
      " 4   ship_service      7554 non-null   object \n",
      " 5   style             7554 non-null   object \n",
      " 6   sku               7554 non-null   object \n",
      " 7   product_category  7554 non-null   object \n",
      " 8   size              7554 non-null   object \n",
      " 9   asin              7554 non-null   object \n",
      " 10  courier_status    7554 non-null   object \n",
      " 11  order_quantity    7554 non-null   int64  \n",
      " 12  sale_amount       7554 non-null   float64\n",
      " 13  city              7554 non-null   object \n",
      " 14  state             7554 non-null   object \n",
      " 15  zip               7554 non-null   object \n",
      " 16  promotion         7554 non-null   object \n",
      " 17  customer_type     7554 non-null   object \n",
      " 18  month             7554 non-null   object \n",
      "dtypes: float64(1), int64(1), object(17)\n",
      "memory usage: 1.2+ MB\n"
     ]
    }
   ],
   "source": [
    "# sale_amount가 0.00이고 Status가 Cancelled인 경우를 찾음\n",
    "cancelled_with_zero_sale = amazon[(amazon['sale_amount'] == 0.00) & (amazon['ship_status'] == 'Cancelled')]\n",
    "\n",
    "# 결과 출력\n",
    "cancelled_with_zero_sale.info()\n"
   ]
  },
  {
   "cell_type": "code",
   "execution_count": 28,
   "id": "6aed235c",
   "metadata": {},
   "outputs": [
    {
     "data": {
      "text/plain": [
       "Courier Status\n",
       "Shipped      109483\n",
       "unknown        6872\n",
       "Unshipped      6557\n",
       "Cancelled      5932\n",
       "Name: count, dtype: int64"
      ]
     },
     "execution_count": 28,
     "metadata": {},
     "output_type": "execute_result"
    }
   ],
   "source": [
    "amazon['Courier Status'].value_counts()"
   ]
  },
  {
   "cell_type": "markdown",
   "id": "e6179a9e",
   "metadata": {},
   "source": [
    "# 4. 컬럼 이름 타입 변경"
   ]
  },
  {
   "cell_type": "code",
   "execution_count": 29,
   "id": "78c19e90",
   "metadata": {},
   "outputs": [],
   "source": [
    "mapper = {'Order ID':'order_ID', 'Date':'date', 'Status':'ship_status','Fulfilment':'fullfilment',\n",
    "          'ship-service-level':'ship_service', 'Style':'style', 'SKU':'sku', 'Category':'product_category', \n",
    "          'Size':'size', 'ASIN':'asin', 'Courier Status':'courier_status', 'Qty':'order_quantity', \n",
    "          'Amount':'sale_amount', 'ship-city':'city', 'ship-state':'state', 'ship-postal-code':'zip', \n",
    "          'promotion-ids':'promotion','B2B':'customer_type'}"
   ]
  },
  {
   "cell_type": "code",
   "execution_count": 30,
   "id": "c1d937fa",
   "metadata": {},
   "outputs": [
    {
     "name": "stderr",
     "output_type": "stream",
     "text": [
      "C:\\Users\\hyein\\AppData\\Local\\Temp\\ipykernel_22856\\2867029000.py:1: SettingWithCopyWarning: \n",
      "A value is trying to be set on a copy of a slice from a DataFrame\n",
      "\n",
      "See the caveats in the documentation: https://pandas.pydata.org/pandas-docs/stable/user_guide/indexing.html#returning-a-view-versus-a-copy\n",
      "  amazon.rename(columns=mapper, inplace =True)\n"
     ]
    }
   ],
   "source": [
    "amazon.rename(columns=mapper, inplace =True)"
   ]
  },
  {
   "cell_type": "code",
   "execution_count": 31,
   "id": "e30d655e",
   "metadata": {},
   "outputs": [
    {
     "name": "stderr",
     "output_type": "stream",
     "text": [
      "C:\\Users\\hyein\\AppData\\Local\\Temp\\ipykernel_22856\\1164148232.py:1: SettingWithCopyWarning: \n",
      "A value is trying to be set on a copy of a slice from a DataFrame\n",
      "\n",
      "See the caveats in the documentation: https://pandas.pydata.org/pandas-docs/stable/user_guide/indexing.html#returning-a-view-versus-a-copy\n",
      "  amazon['customer_type'].replace(to_replace=[True,False],value=['business','customer'], inplace=True)\n"
     ]
    }
   ],
   "source": [
    "amazon['customer_type'].replace(to_replace=[True,False],value=['business','customer'], inplace=True)"
   ]
  },
  {
   "cell_type": "markdown",
   "id": "6f6fcb8c",
   "metadata": {},
   "source": [
    "## 4.1 날짜 타입 변경"
   ]
  },
  {
   "cell_type": "code",
   "execution_count": 32,
   "id": "cc6186a9",
   "metadata": {},
   "outputs": [
    {
     "name": "stderr",
     "output_type": "stream",
     "text": [
      "C:\\Users\\hyein\\AppData\\Local\\Temp\\ipykernel_22856\\1895549944.py:1: UserWarning: Could not infer format, so each element will be parsed individually, falling back to `dateutil`. To ensure parsing is consistent and as-expected, please specify a format.\n",
      "  amazon['date'] = pd.to_datetime(amazon['date'])\n",
      "C:\\Users\\hyein\\AppData\\Local\\Temp\\ipykernel_22856\\1895549944.py:1: SettingWithCopyWarning: \n",
      "A value is trying to be set on a copy of a slice from a DataFrame.\n",
      "Try using .loc[row_indexer,col_indexer] = value instead\n",
      "\n",
      "See the caveats in the documentation: https://pandas.pydata.org/pandas-docs/stable/user_guide/indexing.html#returning-a-view-versus-a-copy\n",
      "  amazon['date'] = pd.to_datetime(amazon['date'])\n"
     ]
    }
   ],
   "source": [
    "amazon['date'] = pd.to_datetime(amazon['date'])"
   ]
  },
  {
   "cell_type": "code",
   "execution_count": 33,
   "id": "56f3d3fa",
   "metadata": {},
   "outputs": [
    {
     "data": {
      "text/plain": [
       "1"
      ]
     },
     "execution_count": 33,
     "metadata": {},
     "output_type": "execute_result"
    }
   ],
   "source": [
    "march_dates = amazon['date'][amazon['date'].dt.month == 3]\n",
    "\n",
    "march_dates.dt.day.nunique()"
   ]
  },
  {
   "cell_type": "code",
   "execution_count": 34,
   "id": "698f0b93",
   "metadata": {},
   "outputs": [],
   "source": [
    "#3월 데이터 제거 \n",
    "amazon = amazon[(amazon['date'].dt.month != 3)]"
   ]
  },
  {
   "cell_type": "code",
   "execution_count": 35,
   "id": "db287ad0",
   "metadata": {},
   "outputs": [
    {
     "name": "stderr",
     "output_type": "stream",
     "text": [
      "C:\\Users\\hyein\\AppData\\Local\\Temp\\ipykernel_22856\\2584321902.py:1: SettingWithCopyWarning: \n",
      "A value is trying to be set on a copy of a slice from a DataFrame.\n",
      "Try using .loc[row_indexer,col_indexer] = value instead\n",
      "\n",
      "See the caveats in the documentation: https://pandas.pydata.org/pandas-docs/stable/user_guide/indexing.html#returning-a-view-versus-a-copy\n",
      "  amazon['month'] = amazon['date'].dt.month\n"
     ]
    },
    {
     "data": {
      "text/plain": [
       "array([4, 5, 6])"
      ]
     },
     "execution_count": 35,
     "metadata": {},
     "output_type": "execute_result"
    }
   ],
   "source": [
    "amazon['month'] = amazon['date'].dt.month\n",
    "amazon[\"month\"].unique()"
   ]
  },
  {
   "cell_type": "code",
   "execution_count": 36,
   "id": "cd8bf376",
   "metadata": {},
   "outputs": [
    {
     "data": {
      "text/plain": [
       "month\n",
       "4    49012\n",
       "5    41995\n",
       "6    37666\n",
       "Name: count, dtype: int64"
      ]
     },
     "execution_count": 36,
     "metadata": {},
     "output_type": "execute_result"
    }
   ],
   "source": [
    "amazon['month'].value_counts()"
   ]
  },
  {
   "cell_type": "code",
   "execution_count": 37,
   "id": "60bd3d13",
   "metadata": {},
   "outputs": [
    {
     "name": "stdout",
     "output_type": "stream",
     "text": [
      "시작일 2022-04-01 00:00:00\n",
      "종료일 2022-06-29 00:00:00\n"
     ]
    }
   ],
   "source": [
    "print(f'시작일 {amazon[\"date\"].min()}')\n",
    "print(f'종료일 {amazon[\"date\"].max()}')"
   ]
  },
  {
   "cell_type": "code",
   "execution_count": 38,
   "id": "b060b20f",
   "metadata": {},
   "outputs": [],
   "source": [
    "#날짜 순서대로 정렬\n",
    "amazon = amazon.sort_values(by =['date'])"
   ]
  },
  {
   "cell_type": "markdown",
   "id": "2366536a",
   "metadata": {},
   "source": [
    "## 4.2 사이즈를 범주형 타입으로 변환"
   ]
  },
  {
   "cell_type": "code",
   "execution_count": 39,
   "id": "33e81d7d",
   "metadata": {},
   "outputs": [
    {
     "data": {
      "text/plain": [
       "size\n",
       "M       22659\n",
       "L       22072\n",
       "XL      20828\n",
       "XXL     18055\n",
       "S       17053\n",
       "3XL     14786\n",
       "XS      11137\n",
       "6XL       735\n",
       "5XL       547\n",
       "4XL       427\n",
       "Free      374\n",
       "Name: count, dtype: int64"
      ]
     },
     "execution_count": 39,
     "metadata": {},
     "output_type": "execute_result"
    }
   ],
   "source": [
    "amazon['size'].value_counts()"
   ]
  },
  {
   "cell_type": "code",
   "execution_count": 40,
   "id": "998d8b7c",
   "metadata": {},
   "outputs": [],
   "source": [
    "size_order = ['Free','XS', 'S', 'M', 'L', 'XL', 'XXL', '3XL', '4XL', '5XL', '6XL']\n",
    "\n",
    "amazon['size'] = pd.Categorical(amazon['size'], categories=size_order, ordered=True)"
   ]
  },
  {
   "cell_type": "markdown",
   "id": "c7c78caa",
   "metadata": {},
   "source": [
    "## 4.3 컬럼 순서 바꾸기"
   ]
  },
  {
   "cell_type": "code",
   "execution_count": 55,
   "id": "522cacc3",
   "metadata": {},
   "outputs": [
    {
     "data": {
      "text/plain": [
       "Index(['order_ID', 'date', 'ship_status', 'fullfilment', 'ship_service',\n",
       "       'style', 'sku', 'product_category', 'size', 'asin', 'courier_status',\n",
       "       'order_quantity', 'sale_amount', 'city', 'state', 'zip', 'promotion',\n",
       "       'customer_type', 'month'],\n",
       "      dtype='object')"
      ]
     },
     "execution_count": 55,
     "metadata": {},
     "output_type": "execute_result"
    }
   ],
   "source": [
    "amazon.columns"
   ]
  },
  {
   "cell_type": "code",
   "execution_count": 56,
   "id": "65fd2110",
   "metadata": {},
   "outputs": [],
   "source": [
    "amazon = amazon[[ 'date','order_ID', 'ship_status', 'fullfilment', 'ship_service',\n",
    "       'style', 'sku', 'product_category', 'size', 'asin', 'courier_status',\n",
    "       'order_quantity', 'sale_amount', 'city', 'state', 'zip', 'promotion',\n",
    "       'customer_type', 'month']]"
   ]
  },
  {
   "cell_type": "markdown",
   "id": "11f60d4a",
   "metadata": {},
   "source": [
    "# 5.  컬럼 생성하기"
   ]
  },
  {
   "cell_type": "code",
   "execution_count": null,
   "id": "ab9225b4",
   "metadata": {},
   "outputs": [],
   "source": [
    "amazon['order_amount'] = amazon.apply(lambda row: row['order_quantity'] * row['sale_amount'], axis=1)"
   ]
  },
  {
   "cell_type": "markdown",
   "id": "eb4d5ebe",
   "metadata": {},
   "source": [
    "# 6. 저장하기"
   ]
  },
  {
   "cell_type": "code",
   "execution_count": 57,
   "id": "8c28de88",
   "metadata": {},
   "outputs": [],
   "source": [
    "amazon.to_csv(\"amazon_processed.csv\")"
   ]
  }
 ],
 "metadata": {
  "kernelspec": {
   "display_name": "Python 3 (ipykernel)",
   "language": "python",
   "name": "python3"
  },
  "language_info": {
   "codemirror_mode": {
    "name": "ipython",
    "version": 3
   },
   "file_extension": ".py",
   "mimetype": "text/x-python",
   "name": "python",
   "nbconvert_exporter": "python",
   "pygments_lexer": "ipython3",
   "version": "3.11.5"
  }
 },
 "nbformat": 4,
 "nbformat_minor": 5
}
